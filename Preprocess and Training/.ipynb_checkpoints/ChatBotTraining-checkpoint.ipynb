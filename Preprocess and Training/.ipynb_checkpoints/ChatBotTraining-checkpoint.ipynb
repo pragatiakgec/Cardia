{
 "cells": [
  {
   "cell_type": "code",
   "execution_count": 22,
   "id": "e17934b9",
   "metadata": {},
   "outputs": [
    {
     "name": "stdout",
     "output_type": "stream",
     "text": [
      "SVM predicted answer: Symptoms of a heart attack include discomfort in the center of the chest that lasts more than a few minutes, or that goes away and comes back. It can feel like uncomfortable pressure, squeezing, fullness, or pain. Symptoms can also include pain or discomfort in one or both arms, the back, neck, jaw, or stomach, shortness of breath, cold sweat, nausea, or lightheadedness.\n",
      "Random Forest predicted answer: Symptoms of a heart attack include discomfort in the center of the chest that lasts more than a few minutes, or that goes away and comes back. It can feel like uncomfortable pressure, squeezing, fullness, or pain. Symptoms can also include pain or discomfort in one or both arms, the back, neck, jaw, or stomach, shortness of breath, cold sweat, nausea, or lightheadedness.\n"
     ]
    }
   ],
   "source": [
    "import pandas as pd\n",
    "from sklearn.model_selection import train_test_split\n",
    "from sklearn.feature_extraction.text import TfidfVectorizer\n",
    "from sklearn.svm import SVC\n",
    "from sklearn.ensemble import RandomForestClassifier\n",
    "from sklearn.metrics import accuracy_score\n",
    "from sklearn.metrics.pairwise import cosine_similarity\n",
    "\n",
    "# Step 1: Load and preprocess data\n",
    "data = pd.read_excel(\"../Data/HeartChatBotData.xlsx\")\n",
    "X = data['Questions']\n",
    "y = data['Answer']\n",
    "\n",
    "# Step 2: Vectorize text data using TF-IDF\n",
    "tfidf_vectorizer = TfidfVectorizer(stop_words='english', lowercase=True, tokenizer=None)  # Tokenization handled by TF-IDF\n",
    "X_tfidf = tfidf_vectorizer.fit_transform(X)\n",
    "\n",
    "# Step 3: Train SVM model\n",
    "svm_classifier = SVC(kernel='linear')\n",
    "svm_classifier.fit(X_tfidf, y)\n",
    "\n",
    "# Step 4: Train Random Forest model\n",
    "rf_classifier = RandomForestClassifier(n_estimators=100, random_state=42)\n",
    "rf_classifier.fit(X_tfidf, y)\n",
    "\n",
    "# Function to predict answer for a given question using both models\n",
    "def predict_answer(question):\n",
    "    question_tfidf = tfidf_vectorizer.transform([question])\n",
    "\n",
    "    # Predictions from SVM and Random Forest\n",
    "    predicted_answer_svm = svm_classifier.predict(question_tfidf)[0]\n",
    "    predicted_answer_rf = rf_classifier.predict(question_tfidf)[0]\n",
    "\n",
    "    return predicted_answer_svm, predicted_answer_rf\n",
    "\n",
    "# Test the function\n",
    "question = \"What are the symptoms of a heart attack?\"\n",
    "svm_answer, rf_answer = predict_answer(question)\n",
    "print(\"SVM predicted answer:\", svm_answer)\n",
    "print(\"Random Forest predicted answer:\", rf_answer)\n"
   ]
  },
  {
   "cell_type": "code",
   "execution_count": 23,
   "id": "d3087367",
   "metadata": {},
   "outputs": [
    {
     "name": "stdout",
     "output_type": "stream",
     "text": [
      "Predicted Answer (SVM): Treatment for CHD usually involves lifestyle changes such as not smoking, eating healthy, and exercising more.\n",
      "Sometimes, medications and procedures are needed.\n",
      "Medications may include cholesterol-lowering drugs, anticoagulants, beta blockers, nitrates, and angiotensin-converting enzyme (ACE) inhibitors.\n",
      "Procedures may include angioplasty and stent placement, or coronary artery bypass graft (CABG).\n",
      "Predicted Answer (Random Forest): Treatment for CHD usually involves lifestyle changes such as not smoking, eating healthy, and exercising more.\n",
      "Sometimes, medications and procedures are needed.\n",
      "Medications may include cholesterol-lowering drugs, anticoagulants, beta blockers, nitrates, and angiotensin-converting enzyme (ACE) inhibitors.\n",
      "Procedures may include angioplasty and stent placement, or coronary artery bypass graft (CABG).\n"
     ]
    }
   ],
   "source": [
    "\n",
    "# Example usage\n",
    "input_question = \"treatment?\"\n",
    "predicted_answer_svm, predicted_answer_rf = predict_answer(input_question)\n",
    "print(\"Predicted Answer (SVM):\", predicted_answer_svm)\n",
    "print(\"Predicted Answer (Random Forest):\", predicted_answer_rf)"
   ]
  },
  {
   "cell_type": "code",
   "execution_count": 24,
   "id": "f9008039",
   "metadata": {},
   "outputs": [],
   "source": [
    "import pickle\n",
    "with open(\"../Model/cardia_bot.pkl\", \"wb\") as f:\n",
    "    pickle.dump(rf_classifier, f)"
   ]
  },
  {
   "cell_type": "code",
   "execution_count": null,
   "id": "3c46db61",
   "metadata": {},
   "outputs": [],
   "source": []
  }
 ],
 "metadata": {
  "kernelspec": {
   "display_name": "Python 3 (ipykernel)",
   "language": "python",
   "name": "python3"
  },
  "language_info": {
   "codemirror_mode": {
    "name": "ipython",
    "version": 3
   },
   "file_extension": ".py",
   "mimetype": "text/x-python",
   "name": "python",
   "nbconvert_exporter": "python",
   "pygments_lexer": "ipython3",
   "version": "3.11.4"
  }
 },
 "nbformat": 4,
 "nbformat_minor": 5
}
