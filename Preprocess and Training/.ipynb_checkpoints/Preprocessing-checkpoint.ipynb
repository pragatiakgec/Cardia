{
 "cells": [
  {
   "cell_type": "code",
   "execution_count": 1,
   "id": "d43370f5",
   "metadata": {},
   "outputs": [],
   "source": [
    "#Load Libraries\n",
    "import numpy as np\n",
    "import pandas as pd"
   ]
  },
  {
   "cell_type": "code",
   "execution_count": 2,
   "id": "93edcdad",
   "metadata": {},
   "outputs": [],
   "source": [
    "data  = pd.read_csv(\"../Data/5_6323146441963343226.csv\")"
   ]
  },
  {
   "cell_type": "code",
   "execution_count": 3,
   "id": "7792d46b",
   "metadata": {},
   "outputs": [
    {
     "data": {
      "text/html": [
       "<div>\n",
       "<style scoped>\n",
       "    .dataframe tbody tr th:only-of-type {\n",
       "        vertical-align: middle;\n",
       "    }\n",
       "\n",
       "    .dataframe tbody tr th {\n",
       "        vertical-align: top;\n",
       "    }\n",
       "\n",
       "    .dataframe thead th {\n",
       "        text-align: right;\n",
       "    }\n",
       "</style>\n",
       "<table border=\"1\" class=\"dataframe\">\n",
       "  <thead>\n",
       "    <tr style=\"text-align: right;\">\n",
       "      <th></th>\n",
       "      <th>BMI</th>\n",
       "      <th>Smoking</th>\n",
       "      <th>AlcoholDrinking</th>\n",
       "      <th>Stroke</th>\n",
       "      <th>PhysicalHealth</th>\n",
       "      <th>MentalHealth</th>\n",
       "      <th>DiffWalking</th>\n",
       "      <th>Sex</th>\n",
       "      <th>AgeCategory</th>\n",
       "      <th>Race</th>\n",
       "      <th>Diabetic</th>\n",
       "      <th>PhysicalActivity</th>\n",
       "      <th>GenHealth</th>\n",
       "      <th>SleepTime</th>\n",
       "      <th>Asthma</th>\n",
       "      <th>KidneyDisease</th>\n",
       "      <th>SkinCancer</th>\n",
       "      <th>HeartDisease</th>\n",
       "    </tr>\n",
       "  </thead>\n",
       "  <tbody>\n",
       "    <tr>\n",
       "      <th>0</th>\n",
       "      <td>16.60</td>\n",
       "      <td>Yes</td>\n",
       "      <td>No</td>\n",
       "      <td>No</td>\n",
       "      <td>3</td>\n",
       "      <td>30</td>\n",
       "      <td>No</td>\n",
       "      <td>Female</td>\n",
       "      <td>55-59</td>\n",
       "      <td>White</td>\n",
       "      <td>Yes</td>\n",
       "      <td>Yes</td>\n",
       "      <td>Very good</td>\n",
       "      <td>5</td>\n",
       "      <td>Yes</td>\n",
       "      <td>No</td>\n",
       "      <td>Yes</td>\n",
       "      <td>No</td>\n",
       "    </tr>\n",
       "    <tr>\n",
       "      <th>1</th>\n",
       "      <td>20.34</td>\n",
       "      <td>No</td>\n",
       "      <td>No</td>\n",
       "      <td>Yes</td>\n",
       "      <td>0</td>\n",
       "      <td>0</td>\n",
       "      <td>No</td>\n",
       "      <td>Female</td>\n",
       "      <td>80 or older</td>\n",
       "      <td>White</td>\n",
       "      <td>No</td>\n",
       "      <td>Yes</td>\n",
       "      <td>Very good</td>\n",
       "      <td>7</td>\n",
       "      <td>No</td>\n",
       "      <td>No</td>\n",
       "      <td>No</td>\n",
       "      <td>No</td>\n",
       "    </tr>\n",
       "    <tr>\n",
       "      <th>2</th>\n",
       "      <td>26.58</td>\n",
       "      <td>Yes</td>\n",
       "      <td>No</td>\n",
       "      <td>No</td>\n",
       "      <td>20</td>\n",
       "      <td>30</td>\n",
       "      <td>No</td>\n",
       "      <td>Male</td>\n",
       "      <td>65-69</td>\n",
       "      <td>White</td>\n",
       "      <td>Yes</td>\n",
       "      <td>Yes</td>\n",
       "      <td>Fair</td>\n",
       "      <td>8</td>\n",
       "      <td>Yes</td>\n",
       "      <td>No</td>\n",
       "      <td>No</td>\n",
       "      <td>No</td>\n",
       "    </tr>\n",
       "  </tbody>\n",
       "</table>\n",
       "</div>"
      ],
      "text/plain": [
       "     BMI Smoking AlcoholDrinking Stroke  PhysicalHealth  MentalHealth  \\\n",
       "0  16.60     Yes              No     No               3            30   \n",
       "1  20.34      No              No    Yes               0             0   \n",
       "2  26.58     Yes              No     No              20            30   \n",
       "\n",
       "  DiffWalking     Sex  AgeCategory   Race Diabetic PhysicalActivity  \\\n",
       "0          No  Female        55-59  White      Yes              Yes   \n",
       "1          No  Female  80 or older  White       No              Yes   \n",
       "2          No    Male        65-69  White      Yes              Yes   \n",
       "\n",
       "   GenHealth  SleepTime Asthma KidneyDisease SkinCancer HeartDisease  \n",
       "0  Very good          5    Yes            No        Yes           No  \n",
       "1  Very good          7     No            No         No           No  \n",
       "2       Fair          8    Yes            No         No           No  "
      ]
     },
     "execution_count": 3,
     "metadata": {},
     "output_type": "execute_result"
    }
   ],
   "source": [
    "data.head(3)"
   ]
  },
  {
   "cell_type": "code",
   "execution_count": 4,
   "id": "4b1c61ce",
   "metadata": {},
   "outputs": [
    {
     "name": "stdout",
     "output_type": "stream",
     "text": [
      "<class 'pandas.core.frame.DataFrame'>\n",
      "RangeIndex: 319795 entries, 0 to 319794\n",
      "Data columns (total 18 columns):\n",
      " #   Column            Non-Null Count   Dtype  \n",
      "---  ------            --------------   -----  \n",
      " 0   BMI               319795 non-null  float64\n",
      " 1   Smoking           319795 non-null  object \n",
      " 2   AlcoholDrinking   319795 non-null  object \n",
      " 3   Stroke            319795 non-null  object \n",
      " 4   PhysicalHealth    319795 non-null  int64  \n",
      " 5   MentalHealth      319795 non-null  int64  \n",
      " 6   DiffWalking       319795 non-null  object \n",
      " 7   Sex               319795 non-null  object \n",
      " 8   AgeCategory       319795 non-null  object \n",
      " 9   Race              319795 non-null  object \n",
      " 10  Diabetic          319795 non-null  object \n",
      " 11  PhysicalActivity  319795 non-null  object \n",
      " 12  GenHealth         319795 non-null  object \n",
      " 13  SleepTime         319795 non-null  int64  \n",
      " 14  Asthma            319795 non-null  object \n",
      " 15  KidneyDisease     319795 non-null  object \n",
      " 16  SkinCancer        319795 non-null  object \n",
      " 17  HeartDisease      319795 non-null  object \n",
      "dtypes: float64(1), int64(3), object(14)\n",
      "memory usage: 43.9+ MB\n"
     ]
    }
   ],
   "source": [
    "data.info()"
   ]
  },
  {
   "cell_type": "code",
   "execution_count": 5,
   "id": "4c011a77",
   "metadata": {},
   "outputs": [
    {
     "data": {
      "text/plain": [
       "BMI                 0\n",
       "Smoking             0\n",
       "AlcoholDrinking     0\n",
       "Stroke              0\n",
       "PhysicalHealth      0\n",
       "MentalHealth        0\n",
       "DiffWalking         0\n",
       "Sex                 0\n",
       "AgeCategory         0\n",
       "Race                0\n",
       "Diabetic            0\n",
       "PhysicalActivity    0\n",
       "GenHealth           0\n",
       "SleepTime           0\n",
       "Asthma              0\n",
       "KidneyDisease       0\n",
       "SkinCancer          0\n",
       "HeartDisease        0\n",
       "dtype: int64"
      ]
     },
     "execution_count": 5,
     "metadata": {},
     "output_type": "execute_result"
    }
   ],
   "source": [
    "#check null values\n",
    "data.isnull().sum()"
   ]
  },
  {
   "cell_type": "code",
   "execution_count": 6,
   "id": "5ecd6cfa",
   "metadata": {},
   "outputs": [
    {
     "name": "stdout",
     "output_type": "stream",
     "text": [
      "Positive samples are 27373\n",
      "Positive samples are 292422\n"
     ]
    }
   ],
   "source": [
    "positive = data[data['HeartDisease'] == 'Yes']\n",
    "print(\"Positive samples are\", len(positive))\n",
    "\n",
    "negative = data[data['HeartDisease'] == 'No']\n",
    "print(\"Positive samples are\", len(negative))"
   ]
  },
  {
   "cell_type": "code",
   "execution_count": 7,
   "id": "16980905",
   "metadata": {},
   "outputs": [
    {
     "name": "stdout",
     "output_type": "stream",
     "text": [
      "Duplicate  18078\n"
     ]
    }
   ],
   "source": [
    "#Duplicate check\n",
    "duplicate = data[data.duplicated()]\n",
    "print(\"Duplicate \", len(duplicate))"
   ]
  },
  {
   "cell_type": "code",
   "execution_count": 8,
   "id": "e164b5a6",
   "metadata": {},
   "outputs": [
    {
     "name": "stdout",
     "output_type": "stream",
     "text": [
      "After Duplicate Removal 301717\n"
     ]
    }
   ],
   "source": [
    "#Remove duplicates\n",
    "data = data.drop_duplicates()\n",
    "print(\"After Duplicate Removal\", len(data))"
   ]
  },
  {
   "cell_type": "code",
   "execution_count": 9,
   "id": "5b7e9723",
   "metadata": {},
   "outputs": [
    {
     "name": "stdout",
     "output_type": "stream",
     "text": [
      "Race Values\n",
      "['White' 'Black' 'Asian' 'American Indian/Alaskan Native' 'Other'\n",
      " 'Hispanic']\n",
      "\n",
      "GenHealth\n",
      "['Very good' 'Fair' 'Good' 'Poor' 'Excellent']\n",
      "\n",
      "AgeCategory\n",
      "['55-59' '80 or older' '65-69' '75-79' '40-44' '70-74' '60-64' '50-54'\n",
      " '45-49' '18-24' '35-39' '30-34' '25-29']\n",
      "\n",
      "Diabetic\n",
      "['Yes' 'No' 'No, borderline diabetes' 'Yes (during pregnancy)']\n"
     ]
    }
   ],
   "source": [
    "print(\"Race Values\")\n",
    "print(data.Race.unique())\n",
    "\n",
    "print(\"\\nGenHealth\")\n",
    "print(data.GenHealth.unique())\n",
    "\n",
    "print(\"\\nAgeCategory\")\n",
    "print(data.AgeCategory.unique())\n",
    "\n",
    "\n",
    "print(\"\\nDiabetic\")\n",
    "print(data.Diabetic.unique())"
   ]
  },
  {
   "cell_type": "code",
   "execution_count": 10,
   "id": "5af094fa",
   "metadata": {},
   "outputs": [],
   "source": [
    "#Apply label Encoding for the ordinal feaures\n",
    "from sklearn import preprocessing \n",
    "\n",
    "label_encoder = preprocessing.LabelEncoder() \n",
    "data['Race']        = label_encoder.fit_transform(data['Race']) \n",
    "data['GenHealth']   = label_encoder.fit_transform(data['GenHealth']) \n",
    "data['AgeCategory'] = label_encoder.fit_transform(data['AgeCategory']) \n",
    "data['Diabetic'] = label_encoder.fit_transform(data['Diabetic']) "
   ]
  },
  {
   "cell_type": "code",
   "execution_count": 11,
   "id": "573e74dc",
   "metadata": {},
   "outputs": [],
   "source": [
    "#Convert binary data to 0's and 1's\n",
    "data['Smoking'] = data['Smoking'].map( {'No':0, 'Yes':1})\n",
    "data['AlcoholDrinking'] = data['AlcoholDrinking'].map( {'No':0, 'Yes':1})\n",
    "data['Stroke'] = data['Stroke'].map( {'No':0, 'Yes':1})\n",
    "data['DiffWalking'] = data['DiffWalking'].map( {'No':0, 'Yes':1})\n",
    "data['Sex'] = data['Sex'].map( {'Female':0, 'Male':1})\n",
    "data['Asthma'] = data['Asthma'].map( {'No':0, 'Yes':1})\n",
    "data['KidneyDisease'] = data['KidneyDisease'].map( {'No':0, 'Yes':1})\n",
    "data['SkinCancer'] = data['SkinCancer'].map( {'No':0, 'Yes':1})\n",
    "data['HeartDisease'] = data['HeartDisease'].map( {'No':0, 'Yes':1})\n",
    "data['PhysicalActivity'] = data['PhysicalActivity'].map( {'No':0, 'Yes':1})"
   ]
  },
  {
   "cell_type": "code",
   "execution_count": 12,
   "id": "355ceac2",
   "metadata": {},
   "outputs": [],
   "source": [
    "from sklearn.feature_selection import SelectKBest\n",
    "from sklearn.feature_selection import chi2"
   ]
  },
  {
   "cell_type": "code",
   "execution_count": 13,
   "id": "02c342ce",
   "metadata": {},
   "outputs": [],
   "source": [
    "X = data.iloc[:,0:17]  #independent columns\n",
    "y = data.iloc[:,-1]    #target column i.e price range"
   ]
  },
  {
   "cell_type": "code",
   "execution_count": 14,
   "id": "b7a6f295",
   "metadata": {},
   "outputs": [
    {
     "data": {
      "text/html": [
       "<div>\n",
       "<style scoped>\n",
       "    .dataframe tbody tr th:only-of-type {\n",
       "        vertical-align: middle;\n",
       "    }\n",
       "\n",
       "    .dataframe tbody tr th {\n",
       "        vertical-align: top;\n",
       "    }\n",
       "\n",
       "    .dataframe thead th {\n",
       "        text-align: right;\n",
       "    }\n",
       "</style>\n",
       "<table border=\"1\" class=\"dataframe\">\n",
       "  <thead>\n",
       "    <tr style=\"text-align: right;\">\n",
       "      <th></th>\n",
       "      <th>BMI</th>\n",
       "      <th>Smoking</th>\n",
       "      <th>AlcoholDrinking</th>\n",
       "      <th>Stroke</th>\n",
       "      <th>PhysicalHealth</th>\n",
       "      <th>MentalHealth</th>\n",
       "      <th>DiffWalking</th>\n",
       "      <th>Sex</th>\n",
       "      <th>AgeCategory</th>\n",
       "      <th>Race</th>\n",
       "      <th>Diabetic</th>\n",
       "      <th>PhysicalActivity</th>\n",
       "      <th>GenHealth</th>\n",
       "      <th>SleepTime</th>\n",
       "      <th>Asthma</th>\n",
       "      <th>KidneyDisease</th>\n",
       "      <th>SkinCancer</th>\n",
       "    </tr>\n",
       "  </thead>\n",
       "  <tbody>\n",
       "    <tr>\n",
       "      <th>0</th>\n",
       "      <td>16.60</td>\n",
       "      <td>1</td>\n",
       "      <td>0</td>\n",
       "      <td>0</td>\n",
       "      <td>3</td>\n",
       "      <td>30</td>\n",
       "      <td>0</td>\n",
       "      <td>0</td>\n",
       "      <td>7</td>\n",
       "      <td>5</td>\n",
       "      <td>2</td>\n",
       "      <td>1</td>\n",
       "      <td>4</td>\n",
       "      <td>5</td>\n",
       "      <td>1</td>\n",
       "      <td>0</td>\n",
       "      <td>1</td>\n",
       "    </tr>\n",
       "    <tr>\n",
       "      <th>1</th>\n",
       "      <td>20.34</td>\n",
       "      <td>0</td>\n",
       "      <td>0</td>\n",
       "      <td>1</td>\n",
       "      <td>0</td>\n",
       "      <td>0</td>\n",
       "      <td>0</td>\n",
       "      <td>0</td>\n",
       "      <td>12</td>\n",
       "      <td>5</td>\n",
       "      <td>0</td>\n",
       "      <td>1</td>\n",
       "      <td>4</td>\n",
       "      <td>7</td>\n",
       "      <td>0</td>\n",
       "      <td>0</td>\n",
       "      <td>0</td>\n",
       "    </tr>\n",
       "    <tr>\n",
       "      <th>2</th>\n",
       "      <td>26.58</td>\n",
       "      <td>1</td>\n",
       "      <td>0</td>\n",
       "      <td>0</td>\n",
       "      <td>20</td>\n",
       "      <td>30</td>\n",
       "      <td>0</td>\n",
       "      <td>1</td>\n",
       "      <td>9</td>\n",
       "      <td>5</td>\n",
       "      <td>2</td>\n",
       "      <td>1</td>\n",
       "      <td>1</td>\n",
       "      <td>8</td>\n",
       "      <td>1</td>\n",
       "      <td>0</td>\n",
       "      <td>0</td>\n",
       "    </tr>\n",
       "  </tbody>\n",
       "</table>\n",
       "</div>"
      ],
      "text/plain": [
       "     BMI  Smoking  AlcoholDrinking  Stroke  PhysicalHealth  MentalHealth  \\\n",
       "0  16.60        1                0       0               3            30   \n",
       "1  20.34        0                0       1               0             0   \n",
       "2  26.58        1                0       0              20            30   \n",
       "\n",
       "   DiffWalking  Sex  AgeCategory  Race  Diabetic  PhysicalActivity  GenHealth  \\\n",
       "0            0    0            7     5         2                 1          4   \n",
       "1            0    0           12     5         0                 1          4   \n",
       "2            0    1            9     5         2                 1          1   \n",
       "\n",
       "   SleepTime  Asthma  KidneyDisease  SkinCancer  \n",
       "0          5       1              0           1  \n",
       "1          7       0              0           0  \n",
       "2          8       1              0           0  "
      ]
     },
     "execution_count": 14,
     "metadata": {},
     "output_type": "execute_result"
    }
   ],
   "source": [
    "X.head(3)"
   ]
  },
  {
   "cell_type": "code",
   "execution_count": 15,
   "id": "3d2ab375",
   "metadata": {},
   "outputs": [
    {
     "name": "stdout",
     "output_type": "stream",
     "text": [
      "             Specs          Score\n",
      "4   PhysicalHealth  152818.088530\n",
      "8      AgeCategory   34092.037888\n",
      "10        Diabetic   13681.199261\n",
      "3           Stroke   10976.246127\n",
      "6      DiffWalking    9929.230236\n",
      "15   KidneyDisease    5901.802646\n",
      "16      SkinCancer    2238.359214\n",
      "5     MentalHealth    2115.303522\n",
      "1          Smoking    1904.392749\n",
      "0              BMI     991.250447\n"
     ]
    }
   ],
   "source": [
    "#apply SelectKBest class to extract top 10 best features\n",
    "bestfeatures = SelectKBest(score_func=chi2, k=10)\n",
    "fit = bestfeatures.fit(X,y)\n",
    "dfscores = pd.DataFrame(fit.scores_)\n",
    "dfcolumns = pd.DataFrame(X.columns)\n",
    "#concat two dataframes for better visualization \n",
    "featureScores = pd.concat([dfcolumns,dfscores],axis=1)\n",
    "featureScores.columns = ['Specs','Score']  #naming the dataframe columns\n",
    "print(featureScores.nlargest(10,'Score'))  #print 10 best features"
   ]
  },
  {
   "cell_type": "code",
   "execution_count": 16,
   "id": "47e0101f",
   "metadata": {},
   "outputs": [],
   "source": [
    "feat = ['PhysicalHealth', 'AgeCategory', 'Diabetic', 'Stroke', 'DiffWalking', 'KidneyDisease', 'MentalHealth', 'SkinCancer','Smoking', 'BMI', 'HeartDisease']\n",
    "features = data[feat]"
   ]
  },
  {
   "cell_type": "code",
   "execution_count": 17,
   "id": "9a1b0d8c",
   "metadata": {},
   "outputs": [],
   "source": [
    "features.to_csv('../Data/heart_disease_training_data.csv')"
   ]
  }
 ],
 "metadata": {
  "kernelspec": {
   "display_name": "Python 3 (ipykernel)",
   "language": "python",
   "name": "python3"
  },
  "language_info": {
   "codemirror_mode": {
    "name": "ipython",
    "version": 3
   },
   "file_extension": ".py",
   "mimetype": "text/x-python",
   "name": "python",
   "nbconvert_exporter": "python",
   "pygments_lexer": "ipython3",
   "version": "3.11.4"
  }
 },
 "nbformat": 4,
 "nbformat_minor": 5
}
